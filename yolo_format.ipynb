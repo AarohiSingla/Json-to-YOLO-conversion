{
 "cells": [
  {
   "cell_type": "code",
   "execution_count": 1,
   "id": "e102cebe-12b1-4edd-b361-74e9f90cf803",
   "metadata": {},
   "outputs": [
    {
     "name": "stdout",
     "output_type": "stream",
     "text": [
      "Processed 1.json -> 1.txt\n",
      "Processed 3.json -> 3.txt\n"
     ]
    }
   ],
   "source": [
    "import json\n",
    "import os\n",
    "\n",
    "# Define the mapping of class names to indices\n",
    "class_mapping = {\n",
    "    \"spoon\": 0,\n",
    "    \"fork\":1,\n",
    "    # Add more classes here as needed\n",
    "}\n",
    "\n",
    "# Define the function to convert JSON to YOLO format\n",
    "def convert_json_to_yolo(json_folder):\n",
    "    # Iterate through all JSON files in the specified folder\n",
    "    for json_file in os.listdir(json_folder):\n",
    "        if json_file.endswith('.json'):\n",
    "            json_path = os.path.join(json_folder, json_file)\n",
    "\n",
    "            # Load the JSON data\n",
    "            with open(json_path, 'r') as f:\n",
    "                data = json.load(f)\n",
    "\n",
    "            # Prepare the output lines\n",
    "            output_lines = []\n",
    "\n",
    "            # Iterate through shapes in the JSON data\n",
    "            for shape in data['shapes']:\n",
    "                label = shape['label']\n",
    "                if label not in class_mapping:\n",
    "                    continue  # Skip if the label is not in the mapping\n",
    "                \n",
    "                class_index = class_mapping[label]\n",
    "                points = shape['points']\n",
    "\n",
    "                # Normalize the points\n",
    "                image_width = data['imageWidth']\n",
    "                image_height = data['imageHeight']\n",
    "                normalized_points = []\n",
    "\n",
    "                for point in points:\n",
    "                    x_normalized = point[0] / image_width\n",
    "                    y_normalized = point[1] / image_height\n",
    "                    normalized_points.append(f\"{x_normalized} {y_normalized}\")\n",
    "\n",
    "                # Join points and create the annotation line\n",
    "                annotation_line = f\"{class_index} \" + \" \".join(normalized_points)\n",
    "                output_lines.append(annotation_line)\n",
    "\n",
    "            # Write the output to a corresponding .txt file\n",
    "            output_file = os.path.splitext(json_file)[0] + '.txt'\n",
    "            output_path = os.path.join(json_folder, output_file)\n",
    "\n",
    "            with open(output_path, 'w') as f:\n",
    "                f.write(\"\\n\".join(output_lines))\n",
    "\n",
    "            print(f\"Processed {json_file} -> {output_file}\")\n",
    "\n",
    "# Specify the folder containing the JSON files\n",
    "json_folder = 'data'  # Change this to your folder path\n",
    "convert_json_to_yolo(json_folder)\n"
   ]
  },
  {
   "cell_type": "code",
   "execution_count": null,
   "id": "76c36b45-15a1-49d5-a453-1bbddd98ad3b",
   "metadata": {},
   "outputs": [],
   "source": []
  }
 ],
 "metadata": {
  "kernelspec": {
   "display_name": "Python 3 (ipykernel)",
   "language": "python",
   "name": "python3"
  },
  "language_info": {
   "codemirror_mode": {
    "name": "ipython",
    "version": 3
   },
   "file_extension": ".py",
   "mimetype": "text/x-python",
   "name": "python",
   "nbconvert_exporter": "python",
   "pygments_lexer": "ipython3",
   "version": "3.10.11"
  }
 },
 "nbformat": 4,
 "nbformat_minor": 5
}
